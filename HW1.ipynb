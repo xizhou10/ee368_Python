{
 "cells": [
  {
   "cell_type": "markdown",
   "metadata": {},
   "source": [
    "### Problem 1\n",
    "\n",
    "#### (a)\n",
    "\n",
    "contrast ratio 1000:1 --> 1000^(1/3) --> ((1000)^(1/3))^2 --> 1000^(2/3) --> 100\n",
    "\n",
    "contrast ratio needed is therefore <b>100:1</b>"
   ]
  },
  {
   "cell_type": "markdown",
   "metadata": {},
   "source": [
    "#### (b)"
   ]
  },
  {
   "cell_type": "code",
   "execution_count": 8,
   "metadata": {},
   "outputs": [
    {
     "ename": "error",
     "evalue": "C:\\bld\\opencv_1513958787105\\work\\opencv-3.3.0\\modules\\photo\\src\\tonemap.cpp:300: error: (-215) !src.empty() in function cv::TonemapReinhardImpl::process\n",
     "output_type": "error",
     "traceback": [
      "\u001b[1;31m---------------------------------------------------------------------------\u001b[0m",
      "\u001b[1;31merror\u001b[0m                                     Traceback (most recent call last)",
      "\u001b[1;32m<ipython-input-8-b1872db03d78>\u001b[0m in \u001b[0;36m<module>\u001b[1;34m()\u001b[0m\n\u001b[0;32m      8\u001b[0m \u001b[1;33m\u001b[0m\u001b[0m\n\u001b[0;32m      9\u001b[0m \u001b[0mtonemapReinhard\u001b[0m \u001b[1;33m=\u001b[0m \u001b[0mcv2\u001b[0m\u001b[1;33m.\u001b[0m\u001b[0mcreateTonemapReinhard\u001b[0m\u001b[1;33m(\u001b[0m\u001b[1;36m1.5\u001b[0m\u001b[1;33m,\u001b[0m \u001b[1;36m0\u001b[0m\u001b[1;33m,\u001b[0m\u001b[1;36m0\u001b[0m\u001b[1;33m,\u001b[0m\u001b[1;36m0\u001b[0m\u001b[1;33m)\u001b[0m\u001b[1;33m\u001b[0m\u001b[0m\n\u001b[1;32m---> 10\u001b[1;33m \u001b[0mldrReinhard\u001b[0m \u001b[1;33m=\u001b[0m \u001b[0mtonemapReinhard\u001b[0m\u001b[1;33m.\u001b[0m\u001b[0mprocess\u001b[0m\u001b[1;33m(\u001b[0m\u001b[0mimg_hdr\u001b[0m\u001b[1;33m)\u001b[0m\u001b[1;33m\u001b[0m\u001b[0m\n\u001b[0m\u001b[0;32m     11\u001b[0m \u001b[0mcv2\u001b[0m\u001b[1;33m.\u001b[0m\u001b[0mimwrite\u001b[0m\u001b[1;33m(\u001b[0m\u001b[1;34m\"hw1_memorial.jpg\"\u001b[0m\u001b[1;33m,\u001b[0m \u001b[0mldrReinhard\u001b[0m \u001b[1;33m*\u001b[0m \u001b[1;36m255\u001b[0m\u001b[1;33m)\u001b[0m\u001b[1;33m\u001b[0m\u001b[0m\n\u001b[0;32m     12\u001b[0m \u001b[1;33m\u001b[0m\u001b[0m\n",
      "\u001b[1;31merror\u001b[0m: C:\\bld\\opencv_1513958787105\\work\\opencv-3.3.0\\modules\\photo\\src\\tonemap.cpp:300: error: (-215) !src.empty() in function cv::TonemapReinhardImpl::process\n"
     ]
    }
   ],
   "source": [
    "import numpy as np\n",
    "import cv2\n",
    "import matplotlib.pyplot as plt\n",
    "\n",
    "%matplotlib inline\n",
    "\n",
    "img_hdr = cv2.imread('hw1_memorial.hdr');\n",
    "\n",
    "tonemapReinhard = cv2.createTonemapReinhard(1.5, 0,0,0)\n",
    "ldrReinhard = tonemapReinhard.process(img_hdr)\n",
    "cv2.imwrite(\"hw1_memorial.jpg\", ldrReinhard * 255)\n",
    "\n",
    "img = cv2.imread('hw1_memorial.jpg');\n",
    "plt.figure()\n",
    "plt.imshow(img);"
   ]
  }
 ],
 "metadata": {
  "kernelspec": {
   "display_name": "Python [default]",
   "language": "python",
   "name": "python3"
  },
  "language_info": {
   "codemirror_mode": {
    "name": "ipython",
    "version": 3
   },
   "file_extension": ".py",
   "mimetype": "text/x-python",
   "name": "python",
   "nbconvert_exporter": "python",
   "pygments_lexer": "ipython3",
   "version": "3.5.3"
  }
 },
 "nbformat": 4,
 "nbformat_minor": 2
}
